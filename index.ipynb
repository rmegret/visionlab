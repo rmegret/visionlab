{
 "cells": [
  {
   "cell_type": "markdown",
   "metadata": {
    "toc": "true"
   },
   "source": [
    "# Table of Contents\n",
    " <p><div class=\"lev1 toc-item\"><a href=\"#Lectures\" data-toc-modified-id=\"Lectures-1\"><span class=\"toc-item-num\">1&nbsp;&nbsp;</span>Lectures</a></div><div class=\"lev1 toc-item\"><a href=\"#More-demos-and-examples\" data-toc-modified-id=\"More-demos-and-examples-2\"><span class=\"toc-item-num\">2&nbsp;&nbsp;</span>More demos and examples</a></div><div class=\"lev1 toc-item\"><a href=\"#Exporting-notebooks\" data-toc-modified-id=\"Exporting-notebooks-3\"><span class=\"toc-item-num\">3&nbsp;&nbsp;</span>Exporting notebooks</a></div><div class=\"lev2 toc-item\"><a href=\"#Convert-to-python-scripts\" data-toc-modified-id=\"Convert-to-python-scripts-31\"><span class=\"toc-item-num\">3.1&nbsp;&nbsp;</span>Convert to python scripts</a></div><div class=\"lev2 toc-item\"><a href=\"#Convert-to-PDF\" data-toc-modified-id=\"Convert-to-PDF-32\"><span class=\"toc-item-num\">3.2&nbsp;&nbsp;</span>Convert to PDF</a></div><div class=\"lev2 toc-item\"><a href=\"#Help-on-nbconvert\" data-toc-modified-id=\"Help-on-nbconvert-33\"><span class=\"toc-item-num\">3.3&nbsp;&nbsp;</span>Help on <code>nbconvert</code></a></div>"
   ]
  },
  {
   "cell_type": "markdown",
   "metadata": {},
   "source": [
    "# Lectures\n",
    "\n",
    "See the [full list of lectures](lectures/)."
   ]
  },
  {
   "cell_type": "markdown",
   "metadata": {},
   "source": [
    "# More demos and examples\n",
    "\n",
    "Refer to [the gallery](http://scikit-image.org/docs/dev/auto_examples/) as\n",
    "well as [scikit-image demos](https://github.com/scikit-image/skimage-demos)\n",
    "for more examples."
   ]
  },
  {
   "cell_type": "markdown",
   "metadata": {},
   "source": [
    "# Exporting notebooks"
   ]
  },
  {
   "cell_type": "markdown",
   "metadata": {},
   "source": [
    "## Convert to python scripts\n",
    "\n",
    "`lectures/*.ipynb` $\\rightarrow$ `lectures-py/*.py`\n",
    "\n",
    "Note: `--to script` does not use the template. You need `--to python` to use the template, which adds some additional custom information than standard format, such as slide type and cell markers to use in `spyder`. The output format can be changed in \n",
    "- [utils/mytemplate.tpl](utils/mytemplate.tpl)"
   ]
  },
  {
   "cell_type": "code",
   "execution_count": 5,
   "metadata": {
    "scrolled": true
   },
   "outputs": [
    {
     "name": "stdout",
     "output_type": "stream",
     "text": [
      "[NbConvertApp] Converting notebook lectures/0_color_and_exposure.ipynb to python\n",
      "[NbConvertApp] Writing 21205 bytes to lectures-py/0_color_and_exposure.py\n"
     ]
    }
   ],
   "source": [
    "#!jupyter nbconvert --to python lectures/*.ipynb --output-dir=lectures-py/ --template utils/mytemplate.tpl\n",
    "#!jupyter nbconvert --to python lectures/00_images_are_arrays.ipynb --output-dir=lectures-py/ --template utils/mytemplate.tpl\n",
    "!jupyter nbconvert --to python lectures/0_color_and_exposure.ipynb --output-dir=lectures-py/ --template utils/mytemplate.tpl"
   ]
  },
  {
   "cell_type": "markdown",
   "metadata": {},
   "source": [
    "## Convert to PDF\n",
    "\n",
    "`lectures/*.ipynb` $\\rightarrow$ `lectures-pdf/*.pdf`\n",
    "\n",
    "Note: `--to pdf` seems to work only when notebook is in current directory. Need to `cd` there first."
   ]
  },
  {
   "cell_type": "code",
   "execution_count": 8,
   "metadata": {
    "scrolled": true
   },
   "outputs": [
    {
     "name": "stdout",
     "output_type": "stream",
     "text": [
      "[NbConvertApp] Converting notebook 3_morphological_operations.ipynb to pdf\n",
      "[NbConvertApp] Support files will be in 3_morphological_operations_files/\n",
      "[NbConvertApp] Making directory 3_morphological_operations_files\n",
      "[NbConvertApp] Making directory 3_morphological_operations_files\n",
      "[NbConvertApp] Making directory 3_morphological_operations_files\n",
      "[NbConvertApp] Making directory 3_morphological_operations_files\n",
      "[NbConvertApp] Making directory 3_morphological_operations_files\n",
      "[NbConvertApp] Making directory 3_morphological_operations_files\n",
      "[NbConvertApp] Making directory 3_morphological_operations_files\n",
      "[NbConvertApp] Making directory 3_morphological_operations_files\n",
      "[NbConvertApp] Making directory 3_morphological_operations_files\n",
      "[NbConvertApp] Making directory 3_morphological_operations_files\n",
      "[NbConvertApp] Making directory 3_morphological_operations_files\n",
      "[NbConvertApp] Writing 33346 bytes to notebook.tex\n",
      "[NbConvertApp] Building PDF\n",
      "[NbConvertApp] Running xelatex 3 times: ['xelatex', 'notebook.tex']\n",
      "[NbConvertApp] Running bibtex 1 time: ['bibtex', 'notebook']\n",
      "[NbConvertApp] WARNING | bibtex had problems, most likely because there were no citations\n",
      "[NbConvertApp] PDF successfully created\n",
      "[NbConvertApp] Writing 128260 bytes to ../lectures-pdf/3_morphological_operations.pdf\n"
     ]
    }
   ],
   "source": [
    "#!cd lectures && for f in *.ipynb; do echo $f; jupyter nbconvert \"$f\" --to pdf -y --output-dir=../lectures-pdf; done\n",
    "#!cd lectures && jupyter nbconvert 00_images_are_arrays.ipynb --to pdf -y --output-dir=../lectures-pdf\n",
    "!cd lectures && jupyter nbconvert 3_*.ipynb --to pdf -y --output-dir=../lectures-pdf"
   ]
  },
  {
   "cell_type": "markdown",
   "metadata": {},
   "source": [
    "## Help on `nbconvert`"
   ]
  },
  {
   "cell_type": "code",
   "execution_count": 8,
   "metadata": {
    "scrolled": true
   },
   "outputs": [
    {
     "name": "stdout",
     "output_type": "stream",
     "text": [
      "This application is used to convert notebook files (*.ipynb) to various other\n",
      "formats.\n",
      "\n",
      "WARNING: THE COMMANDLINE INTERFACE MAY CHANGE IN FUTURE RELEASES.\n",
      "\n",
      "Options\n",
      "-------\n",
      "\n",
      "Arguments that take values are actually convenience aliases to full\n",
      "Configurables, whose aliases are listed on the help line. For more information\n",
      "on full configurables, see '--help-all'.\n",
      "\n",
      "--inplace\n",
      "    Run nbconvert in place, overwriting the existing notebook (only \n",
      "    relevant when converting to notebook format)\n",
      "--debug\n",
      "    set log level to logging.DEBUG (maximize logging output)\n",
      "--generate-config\n",
      "    generate default config file\n",
      "--stdout\n",
      "    Write notebook output to stdout instead of files.\n",
      "-y\n",
      "    Answer yes to any questions instead of prompting.\n",
      "--stdin\n",
      "    read a single notebook file from stdin. Write the resulting notebook with default basename 'notebook.*'\n",
      "--execute\n",
      "    Execute the notebook prior to export.\n",
      "--allow-errors\n",
      "    Continue notebook execution even if one of the cells throws an error and include the error message in the cell output (the default behaviour is to abort conversion). This flag is only relevant if '--execute' was specified, too.\n",
      "--reveal-prefix=<Unicode> (SlidesExporter.reveal_url_prefix)\n",
      "    Default: ''\n",
      "    The URL prefix for reveal.js. This can be a a relative URL for a local copy\n",
      "    of reveal.js, or point to a CDN.\n",
      "    For speaker notes to work, a local reveal.js prefix must be used.\n",
      "--template=<Unicode> (TemplateExporter.template_file)\n",
      "    Default: ''\n",
      "    Name of the template file to use\n",
      "--output-dir=<Unicode> (FilesWriter.build_directory)\n",
      "    Default: ''\n",
      "    Directory to write output to.  Leave blank to output to the current\n",
      "    directory\n",
      "--config=<Unicode> (JupyterApp.config_file)\n",
      "    Default: ''\n",
      "    Full path of a config file.\n",
      "--post=<DottedOrNone> (NbConvertApp.postprocessor_class)\n",
      "    Default: ''\n",
      "    PostProcessor class used to write the results of the conversion\n",
      "--nbformat=<Enum> (NotebookExporter.nbformat_version)\n",
      "    Default: 4\n",
      "    Choices: [1, 2, 3, 4]\n",
      "    The nbformat version to write. Use this to downgrade notebooks.\n",
      "--output=<Unicode> (NbConvertApp.output_base)\n",
      "    Default: ''\n",
      "    overwrite base name use for output files. can only be used when converting\n",
      "    one notebook at a time.\n",
      "--to=<Unicode> (NbConvertApp.export_format)\n",
      "    Default: 'html'\n",
      "    The export format to be used, either one of the built-in formats, or a\n",
      "    dotted object name that represents the import path for an `Exporter` class\n",
      "--log-level=<Enum> (Application.log_level)\n",
      "    Default: 30\n",
      "    Choices: (0, 10, 20, 30, 40, 50, 'DEBUG', 'INFO', 'WARN', 'ERROR', 'CRITICAL')\n",
      "    Set the log level by value or name.\n",
      "--writer=<DottedObjectName> (NbConvertApp.writer_class)\n",
      "    Default: 'FilesWriter'\n",
      "    Writer class used to write the  results of the conversion\n",
      "\n",
      "To see all available configurables, use `--help-all`\n",
      "\n",
      "Examples\n",
      "--------\n",
      "\n",
      "    The simplest way to use nbconvert is\n",
      "    \n",
      "    > jupyter nbconvert mynotebook.ipynb\n",
      "    \n",
      "    which will convert mynotebook.ipynb to the default format (probably HTML).\n",
      "    \n",
      "    You can specify the export format with `--to`.\n",
      "    Options include ['custom', 'html', 'latex', 'markdown', 'notebook', 'pdf', 'python', 'rst', 'script', 'slides', 'html_ch', 'html_embed', 'html_toc', 'html_with_lenvs', 'html_with_toclenvs', 'latex_with_lenvs', 'selectLanguage']\n",
      "    \n",
      "    > jupyter nbconvert --to latex mynotebook.ipynb\n",
      "    \n",
      "    Both HTML and LaTeX support multiple output templates. LaTeX includes\n",
      "    'base', 'article' and 'report'.  HTML includes 'basic' and 'full'. You\n",
      "    can specify the flavor of the format used.\n",
      "    \n",
      "    > jupyter nbconvert --to html --template basic mynotebook.ipynb\n",
      "    \n",
      "    You can also pipe the output to stdout, rather than a file\n",
      "    \n",
      "    > jupyter nbconvert mynotebook.ipynb --stdout\n",
      "    \n",
      "    PDF is generated via latex\n",
      "    \n",
      "    > jupyter nbconvert mynotebook.ipynb --to pdf\n",
      "    \n",
      "    You can get (and serve) a Reveal.js-powered slideshow\n",
      "    \n",
      "    > jupyter nbconvert myslides.ipynb --to slides --post serve\n",
      "    \n",
      "    Multiple notebooks can be given at the command line in a couple of \n",
      "    different ways:\n",
      "    \n",
      "    > jupyter nbconvert notebook*.ipynb\n",
      "    > jupyter nbconvert notebook1.ipynb notebook2.ipynb\n",
      "    \n",
      "    or you can specify the notebooks list in a config file, containing::\n",
      "    \n",
      "        c.NbConvertApp.notebooks = [\"my_notebook.ipynb\"]\n",
      "    \n",
      "    > jupyter nbconvert --config mycfg.py\n",
      "\n"
     ]
    }
   ],
   "source": [
    "!jupyter nbconvert help"
   ]
  },
  {
   "cell_type": "code",
   "execution_count": null,
   "metadata": {
    "collapsed": true
   },
   "outputs": [],
   "source": []
  }
 ],
 "metadata": {
  "anaconda-cloud": {},
  "celltoolbar": "Edit Metadata",
  "kernelspec": {
   "display_name": "Python 3",
   "language": "python",
   "name": "python3"
  },
  "language_info": {
   "codemirror_mode": {
    "name": "ipython",
    "version": 3
   },
   "file_extension": ".py",
   "mimetype": "text/x-python",
   "name": "python",
   "nbconvert_exporter": "python",
   "pygments_lexer": "ipython3",
   "version": "3.5.5"
  },
  "toc": {
   "colors": {
    "hover_highlight": "#DAA520",
    "running_highlight": "#FF0000",
    "selected_highlight": "#FFD700"
   },
   "moveMenuLeft": true,
   "nav_menu": {
    "height": "86px",
    "width": "252px"
   },
   "navigate_menu": true,
   "number_sections": true,
   "sideBar": true,
   "threshold": 4,
   "toc_cell": true,
   "toc_section_display": "block",
   "toc_window_display": true,
   "widenNotebook": false
  },
  "varInspector": {
   "cols": {
    "lenName": 16,
    "lenType": 16,
    "lenVar": 40
   },
   "kernels_config": {
    "python": {
     "delete_cmd_postfix": "",
     "delete_cmd_prefix": "del ",
     "library": "var_list.py",
     "varRefreshCmd": "print(var_dic_list())"
    },
    "r": {
     "delete_cmd_postfix": ") ",
     "delete_cmd_prefix": "rm(",
     "library": "var_list.r",
     "varRefreshCmd": "cat(var_dic_list()) "
    }
   },
   "types_to_exclude": [
    "module",
    "function",
    "builtin_function_or_method",
    "instance",
    "_Feature"
   ],
   "window_display": false
  }
 },
 "nbformat": 4,
 "nbformat_minor": 2
}
